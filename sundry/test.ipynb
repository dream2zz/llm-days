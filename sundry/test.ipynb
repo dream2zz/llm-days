{
 "cells": [
  {
   "cell_type": "code",
   "execution_count": null,
   "id": "d411f45e",
   "metadata": {},
   "outputs": [],
   "source": [
    "pip install zhipuai"
   ]
  },
  {
   "cell_type": "code",
   "execution_count": null,
   "id": "45092e57",
   "metadata": {},
   "outputs": [],
   "source": [
    "from zhipuai import ZhipuAI\n",
    "\n",
    "client = ZhipuAI(api_key=\"98679363e8614f839cbaa435808c50a9.6iDe1SVnatdiCabM\")\n",
    "\n",
    "response = client.chat.completions.create(\n",
    "    model=\"glm-4-plus\",\n",
    "    messages=[\n",
    "        {\n",
    "            \"role\": \"system\",\n",
    "            \"content\": \"你是一个拥有多年经验的高中数学老师，你的任务是为用户提供专业、准确、有见地的建议。\" \n",
    "        },\n",
    "        {\n",
    "            \"role\": \"user\",\n",
    "            \"content\": \"提供一道高三的数学题，要求是函数相关的题目，并给出详细的解答过程。\"\n",
    "        }\n",
    "    ],\n",
    "    top_p= 0.7,\n",
    "    temperature= 0.95,\n",
    "    max_tokens=1024,\n",
    "    tools = [{\"type\":\"web_search\",\"web_search\":{\"search_result\":True}}],\n",
    "    stream=True\n",
    ")\n",
    "\n",
    "for trunk in response:\n",
    "    print(trunk.choices[0].delta.content, end=\"\", flush=True)"
   ]
  }
 ],
 "metadata": {
  "kernelspec": {
   "display_name": ".conda",
   "language": "python",
   "name": "python3"
  },
  "language_info": {
   "codemirror_mode": {
    "name": "ipython",
    "version": 3
   },
   "file_extension": ".py",
   "mimetype": "text/x-python",
   "name": "python",
   "nbconvert_exporter": "python",
   "pygments_lexer": "ipython3",
   "version": "3.11.11"
  }
 },
 "nbformat": 4,
 "nbformat_minor": 5
}
